{
 "cells": [
  {
   "cell_type": "code",
   "execution_count": 7,
   "id": "1a6e44d5",
   "metadata": {},
   "outputs": [],
   "source": [
    "from read_data import read_data\n",
    "\n",
    "from sklearn.feature_extraction.text import TfidfVectorizer\n",
    "from sklearn.linear_model import LogisticRegression\n",
    "from sklearn.multioutput import ClassifierChain\n",
    "from sklearn.pipeline import make_pipeline"
   ]
  },
  {
   "cell_type": "code",
   "execution_count": 8,
   "id": "d3c462f2",
   "metadata": {},
   "outputs": [],
   "source": [
    "train_df, test_df, test_labels_df = read_data(\"data/\")\n",
    "\n",
    "# ignore test values with -1 labels\n",
    "test_df_usable = test_df.loc[test_labels_df['toxic'] != -1]\n",
    "test_labels_df_usable = test_labels_df.loc[test_labels_df['toxic'] != -1]\n",
    "\n",
    "label_cols = ['toxic', 'severe_toxic', 'obscene', 'threat', 'insult', 'identity_hate']"
   ]
  },
  {
   "cell_type": "code",
   "execution_count": 9,
   "id": "1af23fe0",
   "metadata": {},
   "outputs": [],
   "source": [
    "# establish train and test datasets\n",
    "train_X = train_df['comment_text']\n",
    "train_y = train_df[label_cols]\n",
    "test_X = test_df_usable['comment_text']\n",
    "test_y = test_labels_df_usable[label_cols]"
   ]
  },
  {
   "cell_type": "markdown",
   "id": "65a54cfd",
   "metadata": {},
   "source": [
    "Chain order: insult, obscene, toxic, severe_toxic, identity_hate, threat  \n",
    "(idx: 4, 2, 0, 1, 5, 3)"
   ]
  },
  {
   "cell_type": "code",
   "execution_count": 10,
   "id": "54a92ca2",
   "metadata": {},
   "outputs": [],
   "source": [
    "# TF-IDF + ClassifierChain(LogReg), probabilities fed forward\n",
    "base = LogisticRegression(max_iter=2000, class_weight=\"balanced\")\n",
    "order = [4, 2, 0, 1, 5, 3]\n",
    "\n",
    "chain = ClassifierChain(\n",
    "    estimator=base,\n",
    "    order=order,\n",
    "    cv=5,\n",
    "    chain_method=\"predict_proba\"\n",
    ")\n",
    "\n",
    "pipe = make_pipeline(\n",
    "    TfidfVectorizer(max_features=50000, ngram_range=(1,2), stop_words=\"english\"),\n",
    "    chain\n",
    ")\n",
    "\n",
    "pipe.fit(train_X, train_y)\n",
    "\n",
    "# Probabilities for each label in chain order, shape: (n_samples, n_labels)\n",
    "Y_proba = pipe.predict_proba(test_X)"
   ]
  }
 ],
 "metadata": {
  "kernelspec": {
   "display_name": "Python 3",
   "language": "python",
   "name": "python3"
  },
  "language_info": {
   "codemirror_mode": {
    "name": "ipython",
    "version": 3
   },
   "file_extension": ".py",
   "mimetype": "text/x-python",
   "name": "python",
   "nbconvert_exporter": "python",
   "pygments_lexer": "ipython3",
   "version": "3.13.7"
  }
 },
 "nbformat": 4,
 "nbformat_minor": 5
}
